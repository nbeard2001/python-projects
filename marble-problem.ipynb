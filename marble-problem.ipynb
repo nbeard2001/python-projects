{
 "cells": [
  {
   "cell_type": "markdown",
   "metadata": {},
   "source": [
    "# Marble Problem\n",
    "## A calculator to solve a classic problem \n",
    "### I have a bag of marbles. If I pull the marbles out by 2, there is one left over. If I pull them out by 3, there are 2 left over. By 4, 3; by 5, 4; by 6,5; and by 7, 0. What is the minimum number of marbles in the bag?\n",
    "### The answer to this particular formulation is 119, but I want to create a calculator for this, working with different mods (not just n-1 for any given n like in the original problem).\n",
    "\n",
    "This first section will ask for two inputs, a list of divisors and a list of remainders. These lists need to be the same length. In the terms of the marble problem, we think of the divisors as the number of marbles we pull out at a time and the remainders as how many marbles we want left once we have pulled out as many groups of our divisor as possible. \n",
    "\n",
    "IMPORTANT NOTE: This program will take a much longer time for large amounts of divisors, large divisors, and prime divisors. It will still function, just slowly"
   ]
  },
  {
   "cell_type": "code",
   "execution_count": 159,
   "metadata": {},
   "outputs": [
    {
     "name": "stdout",
     "output_type": "stream",
     "text": [
      "Please input non-zero positive integer divisors here\n",
      "[1, 2, 3, 4, 5, 6, 7]\n",
      "Please input integer remainders (r1, r2, ...) here\n"
     ]
    }
   ],
   "source": [
    "#Accepting inputs of initial conditions\n",
    "from pickle import FALSE\n",
    "\n",
    "divisors=[0,1,1]\n",
    "remainders=[0,1]\n",
    "\n",
    "#We need the same number of divisors and remainders, we start with uneven lists so this loop will iterate the first time\n",
    "while len(divisors)!= len(remainders):\n",
    "    \n",
    "    #Define a list of positive divisors\n",
    "    while True:\n",
    "        print(\"Please input non-zero positive integer divisors here\")\n",
    "        try:\n",
    "            divisors= list(map(int,input(\"Enter integers in form 1 12 23 ... here: \").split()))\n",
    "        except ValueError:\n",
    "            print(\"Please try inputting divisors again\")\n",
    "            continue\n",
    "        if any (x<1 for x in divisors)==True:\n",
    "            print(\"Please try entering positive, non-zero, divisors again\")\n",
    "            continue\n",
    "        else:\n",
    "            print(divisors)\n",
    "            break\n",
    "\n",
    "    #Define list of integer remainders\n",
    "    print(\"Please input integer remainders (r1, r2, ...) here\")\n",
    "    while True:\n",
    "        try:\n",
    "            remainders= list(map(int,input(\"Enter integers in form 1 12 23 ... here: \").split()))\n",
    "        except ValueError:\n",
    "            print(\"Please try inputting remainders again\")\n",
    "            continue\n",
    "        else:\n",
    "            break\n",
    "    #Print error message here so it doesn't populate first time through\n",
    "    if len(divisors)!= len(remainders):\n",
    "        print(\"Please input the same number of values for divisor and remainder!\")\n",
    "        continue\n",
    "    else:  \n",
    "        break\n",
    "\n"
   ]
  },
  {
   "cell_type": "markdown",
   "metadata": {},
   "source": [
    "### We now have the divisors and the remainders necessary to calculate the minimum number of marbles we need to pull. The following program will determine what this number is and display it. \n",
    "\n",
    "The idea is that for any list of divisors, they will have a LCM. However, since there is a remainder attached, we must make sure that the least common multiple is not simply the LCM of the divisors, but equal to divisor(i)*k(i)+remainder(i). We populate a list of these and find the first number satsifying the condition. Simply put, the number-remainder(i) is divisible by divisor(i). We do not need to find k(i), but simply populate the list up to the product of all of the values. "
   ]
  },
  {
   "cell_type": "code",
   "execution_count": 160,
   "metadata": {},
   "outputs": [
    {
     "name": "stdout",
     "output_type": "stream",
     "text": [
      "[1, 2, 3, 4, 5, 6, 7] mod [0, 1, 2, 3, 4, 5, 0]\n",
      "The answer is 119 !\n"
     ]
    }
   ],
   "source": [
    "from ast import NotIn\n",
    "import math\n",
    "#the max depth is as far as we will need to go with the divisors in order to find a LCM with remainder. There may be a formula for a smaller max depth, but that is an optimization for a later time\n",
    "maxdepth=int((math.prod(divisors))/max(divisors))\n",
    "\n",
    "#Verify constraints of problem\n",
    "print(divisors,\"mod\",remainders)\n",
    "\n",
    "\n",
    "totaltuple=()\n",
    "#finally time to get to the math, here we find all of the values of divisor(i)*k(i)+remainder(i) for k in 0, maxdepth. We find it for all of our divisors at once\n",
    "for i in range(0, len(divisors)):\n",
    "    for k in range(0, maxdepth):\n",
    "        totaltuple=totaltuple+((k*divisors[i]+remainders[i]),)\n",
    "\n",
    "#here we slice the tuple into groups that \n",
    "slicedtuple = tuple(totaltuple[x:x + maxdepth] \n",
    "      for x in range(0, len(totaltuple), maxdepth))\n",
    "\n",
    "#now we try to find a value contained in each of the tuples. We define a flag so that when we find the value in each tuple, the outer loop breaks      \n",
    "flag = False\n",
    "#guessing each of the elements from the first tuple\n",
    "for i in range(0, maxdepth):\n",
    "    guess=slicedtuple[len(divisors)-1][i]\n",
    "    if guess - remainders[0] == 0:\n",
    "        continue    \n",
    "    for k in range(0,len(divisors)):\n",
    "        if guess in slicedtuple[k]:\n",
    "            if k == (len(divisors)-1):\n",
    "                flag = True\n",
    "                break\n",
    "            else:\n",
    "                continue\n",
    "        else:\n",
    "            break\n",
    "    if flag == True:\n",
    "        print(\"The answer is\", guess,\"!\")\n",
    "        break\n",
    "    if i == maxdepth-1:\n",
    "        print(\"No solution\")\n",
    "        \n",
    "\n",
    "\n",
    "    "
   ]
  },
  {
   "cell_type": "code",
   "execution_count": null,
   "metadata": {},
   "outputs": [],
   "source": []
  }
 ],
 "metadata": {
  "kernelspec": {
   "display_name": "Python 3.8.9 64-bit",
   "language": "python",
   "name": "python3"
  },
  "language_info": {
   "codemirror_mode": {
    "name": "ipython",
    "version": 3
   },
   "file_extension": ".py",
   "mimetype": "text/x-python",
   "name": "python",
   "nbconvert_exporter": "python",
   "pygments_lexer": "ipython3",
   "version": "3.8.9"
  },
  "orig_nbformat": 4,
  "vscode": {
   "interpreter": {
    "hash": "31f2aee4e71d21fbe5cf8b01ff0e069b9275f58929596ceb00d14d90e3e16cd6"
   }
  }
 },
 "nbformat": 4,
 "nbformat_minor": 2
}
